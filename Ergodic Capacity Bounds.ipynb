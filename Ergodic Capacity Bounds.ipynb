{
 "cells": [
  {
   "cell_type": "markdown",
   "metadata": {},
   "source": [
    "# Bounds on the Ergodic Capacity for Dependent Fading Channels"
   ]
  },
  {
   "cell_type": "markdown",
   "metadata": {},
   "source": [
    "_Author:_ Karl-Ludwig Besser, Technische Universität Braunschweig, Germany\n",
    "\n",
    "This notebook is part of the paper \"Calculation of\n",
    "Bounds on the Ergodic Capacity for Fading Channels with Dependency Uncertainty\" (IEEE International Conference on Communications (ICC), 2021, [DOI:XXX](https://doi.org/)).  \n",
    "If you use any of this work, please cite the above paper."
   ]
  },
  {
   "cell_type": "markdown",
   "metadata": {},
   "source": [
    "> If you are not familiar with Jupyter notebooks: The easiest way to use this notebook interactively, is to hit `Kernel --> Restart & Run All` in the menu. The will execute all cells and enable the interactive elements of the plots.  \n",
    "> Alternatively, you can execute the cells one by one using Shift+Return"
   ]
  },
  {
   "cell_type": "code",
   "execution_count": null,
   "metadata": {},
   "outputs": [],
   "source": [
    "import numpy as np\n",
    "from scipy import stats\n",
    "%matplotlib widget\n",
    "import matplotlib.pyplot as plt\n",
    "from ipywidgets import interact, interact_manual, BoundedIntText"
   ]
  },
  {
   "cell_type": "markdown",
   "metadata": {},
   "source": [
    "We consider the multi-antenna system with $n$ receive antennas and maximum ratio combining (MRC) at the receiver.\n",
    "The instantaneous channel capacity is then given by\n",
    "$$\n",
    "C_{\\text{inst}} = \\log_{2}\\left(1 + \\rho \\sum_{i=1}{n} X_i\\right)\n",
    "$$\n",
    "where $\\rho$ denotes the SNR and $X_i = |H_i|^2$.\n",
    "\n",
    "\n",
    "Since we assume that the $n$ fading links are fast fading, our performance metric is the the ergodic cacity, which is given as\n",
    "$$\n",
    "C = \\mathbb{E}_{(X_1, \\dots{}, X_n)\\sim F_{X}}\\left[C_{\\text{inst}}\\right]\n",
    "$$\n",
    "\n",
    "\n",
    "In the following, we will evaluate the best and worst case ergodic capacities for fading distributions where only the marginal distributions $F_{X_i}$ are known. The joint distribution $F_{X}$ is unknown."
   ]
  },
  {
   "cell_type": "markdown",
   "metadata": {},
   "source": [
    "## Homogeneous Rayleigh Fading"
   ]
  },
  {
   "cell_type": "markdown",
   "metadata": {},
   "source": [
    "The first example is homogeneous Rayleigh fading. Each fading gain ${X}_i$ is exponentially distributed, i.e., ${X}_i\\sim\\exp(1)$."
   ]
  },
  {
   "cell_type": "code",
   "execution_count": null,
   "metadata": {},
   "outputs": [],
   "source": [
    "from rayleigh_fading import (rayleigh_best_ergodic_ra, rayleigh_comon_ergodic, rayleigh_iid_ergodic, \n",
    "                             rayleigh_worst_ergodic_ra, rayleigh_best_ergodic)\n",
    "rayleigh_best_ergodic = np.vectorize(rayleigh_best_ergodic)"
   ]
  },
  {
   "cell_type": "code",
   "execution_count": null,
   "metadata": {},
   "outputs": [],
   "source": [
    "def plot_rayleigh():\n",
    "    n = np.arange(2, 21)\n",
    "    fig, axs = plt.subplots()\n",
    "    func_ra = {\"Best Case RA\": (rayleigh_best_ergodic_ra, 'b'),\n",
    "               \"Worst Case RA\": (rayleigh_worst_ergodic_ra, 'r')}\n",
    "    plots_ra = {k: axs.plot(n, np.zeros((len(n), 2)), '--', label=k, c=v[1]) for k, v in func_ra.items()}\n",
    "    # Non-RA curves\n",
    "    func = {\"Independent\": (rayleigh_iid_ergodic, 'g'),\n",
    "            \"Comonotonic\": (rayleigh_comon_ergodic, 'orange'),\n",
    "            \"Best Case Exact\": (rayleigh_best_ergodic, \"cyan\")}\n",
    "    plots = {k: axs.plot(n, np.zeros_like(n), label=k, c=v[1])[0] for k, v in func.items()}\n",
    "    \n",
    "    axs.set_xlabel(\"Number of Channels $n$\")\n",
    "    axs.set_ylabel(\"Ergodic Capacity $C$\")\n",
    "    axs.set_xlim([2, 20])\n",
    "    axs.set_ylim([0, 10])\n",
    "    axs.legend()\n",
    "    \n",
    "    def update_plot(snr_db=10., num_levels=1000):\n",
    "        snr = 10**(snr_db/10.)\n",
    "        for _name, (_func, _color) in func_ra.items():\n",
    "            values = np.array([_func(snr, _n, num_levels=num_levels) for _n in n])\n",
    "            plots_ra[_name][0].set_ydata(values[:, 0])\n",
    "            plots_ra[_name][1].set_ydata(values[:, 1])\n",
    "        for _name, (_func, _color) in func.items():\n",
    "            values = np.array(_func(snr, n))\n",
    "            plots[_name].set_ydata(values)\n",
    "    interact_manual(update_plot, snr_db=(0, 20, 1),\n",
    "                    num_levels=BoundedIntText(value=1000, min=5, max=2000,\n",
    "                                              description=\"Number of Quantization Levels:\"))"
   ]
  },
  {
   "cell_type": "markdown",
   "metadata": {},
   "source": [
    "You can change the SNR and then hit the \"Run Interact\" button to run the algorithm and update the plot."
   ]
  },
  {
   "cell_type": "code",
   "execution_count": null,
   "metadata": {},
   "outputs": [],
   "source": [
    "plot_rayleigh()"
   ]
  },
  {
   "cell_type": "markdown",
   "metadata": {},
   "source": [
    "## Arbitrary Fading Distributions"
   ]
  },
  {
   "cell_type": "markdown",
   "metadata": {},
   "source": [
    "Next, we consider the case of arbitrary marginal fading distributions. For this case, the RA is especially beneficial since no exact solutions are known for this scenario.\n",
    "\n",
    "We consider an example with $n=3$, where\n",
    "- $X_1$ is exponentially distributed\n",
    "- $X_2$ is log-normally distributed\n",
    "- $X_3$ is Chi-square distributed\n",
    "\n",
    "Please check the paper for the exact parameters of the distributions."
   ]
  },
  {
   "cell_type": "code",
   "execution_count": null,
   "metadata": {},
   "outputs": [],
   "source": [
    "from mixed_marginals import mixed_best_ergodic_ra, mixed_comonotonic, mixed_independent, mixed_worst_ergodic_ra"
   ]
  },
  {
   "cell_type": "code",
   "execution_count": null,
   "metadata": {},
   "outputs": [],
   "source": [
    "def plot_mixed_marginals():\n",
    "    snr_db = np.arange(0, 21)\n",
    "    snr = 10**(snr_db/10.)\n",
    "    \n",
    "    fig, axs = plt.subplots()\n",
    "    func_ra = {\"Best Case RA\": (mixed_best_ergodic_ra, 'b'),\n",
    "               \"Worst Case RA\": (mixed_worst_ergodic_ra, 'r')}\n",
    "    plots_ra = {k: axs.plot(snr_db, np.zeros((len(snr), 2)), '--', label=k, c=v[1])\n",
    "                for k, v in func_ra.items()}\n",
    "    # Non-RA curves\n",
    "    func = {\"Independent\": (mixed_independent, 'g'),\n",
    "            \"Comonotonic\": (mixed_comonotonic, 'orange')}\n",
    "    plots = {k: axs.plot(snr_db, np.array([v[0](_snr) for _snr in snr]), label=k, c=v[1])[0]\n",
    "             for k, v in func.items()}\n",
    "    \n",
    "    axs.set_xlabel(\"SNR $\\\\rho$ [dB]\")\n",
    "    axs.set_ylabel(\"Ergodic Capacity $C$\")\n",
    "    axs.set_xlim([0, 20])\n",
    "    axs.set_ylim([0, 10])\n",
    "    axs.legend()\n",
    "    \n",
    "    def update_plot(num_levels=1000):\n",
    "        for _name, (_func, _color) in func_ra.items():\n",
    "            values = np.array([_func(_snr, 3, num_levels=num_levels) for _snr in snr])\n",
    "            plots_ra[_name][0].set_ydata(values[:, 0])\n",
    "            plots_ra[_name][1].set_ydata(values[:, 1])\n",
    "\n",
    "    interact_manual(update_plot, num_levels=BoundedIntText(value=1000, min=5, max=2000,\n",
    "                                                           description=\"Number of Quantization Levels:\"))"
   ]
  },
  {
   "cell_type": "markdown",
   "metadata": {},
   "source": [
    "You can vary the number of quantization levels in the box below the plot. Hit \"Run Interact\" to run the algorithm and update the plot.\n",
    "\n",
    "With an increasing number of quantization levels $N$, the bounds calculated by the algorithm get closer together and they approach the exact value for $N\\to\\infty$."
   ]
  },
  {
   "cell_type": "code",
   "execution_count": null,
   "metadata": {},
   "outputs": [],
   "source": [
    "plot_mixed_marginals()"
   ]
  }
 ],
 "metadata": {
  "kernelspec": {
   "display_name": "Python 3",
   "language": "python",
   "name": "python3"
  },
  "language_info": {
   "codemirror_mode": {
    "name": "ipython",
    "version": 3
   },
   "file_extension": ".py",
   "mimetype": "text/x-python",
   "name": "python",
   "nbconvert_exporter": "python",
   "pygments_lexer": "ipython3",
   "version": "3.9.1"
  }
 },
 "nbformat": 4,
 "nbformat_minor": 2
}
