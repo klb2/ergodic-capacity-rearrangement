{
 "cells": [
  {
   "cell_type": "markdown",
   "metadata": {},
   "source": [
    "# Bounds on the Ergodic Capacity for Dependent Fading Channels"
   ]
  },
  {
   "cell_type": "markdown",
   "metadata": {},
   "source": [
    "_Author:_ Karl-Ludwig Besser, Technische Universität Braunschweig, Germany\n",
    "\n",
    "This notebook is part of the paper \"...\" (DOI:XXX).  \n",
    "If you use any of this work, please cite the above paper."
   ]
  },
  {
   "cell_type": "markdown",
   "metadata": {},
   "source": [
    "> If you are not familiar with Jupyter notebooks: The easiest way to use this notebook interactively, is to hit `Kernel --> Restart & Run All` in the menu. The will execute all cells and enable the interactive elements of the plots.  \n",
    "> Alternatively, you can execute the cells one by one using Shift+Return"
   ]
  },
  {
   "cell_type": "code",
   "execution_count": 1,
   "metadata": {},
   "outputs": [],
   "source": [
    "import numpy as np\n",
    "from scipy import stats\n",
    "%matplotlib widget\n",
    "import matplotlib.pyplot as plt\n",
    "from ipywidgets import interact, interact_manual, BoundedIntText"
   ]
  },
  {
   "cell_type": "markdown",
   "metadata": {},
   "source": [
    "TODO: Text"
   ]
  },
  {
   "cell_type": "markdown",
   "metadata": {},
   "source": [
    "## Homogeneous Rayleigh Fading"
   ]
  },
  {
   "cell_type": "markdown",
   "metadata": {},
   "source": [
    "The first example is homogeneous Rayleigh fading. Each fading gain ${X}_i$ is exponentially distributed, i.e., ${X}_i\\sim\\exp(1)$."
   ]
  },
  {
   "cell_type": "code",
   "execution_count": 2,
   "metadata": {},
   "outputs": [
    {
     "name": "stderr",
     "output_type": "stream",
     "text": [
      "R[write to console]: Registered S3 method overwritten by 'quantmod':\n",
      "  method            from\n",
      "  as.zoo.data.frame zoo \n",
      "\n"
     ]
    }
   ],
   "source": [
    "from rayleigh_fading import (rayleigh_best_ergodic_ra, rayleigh_comon_ergodic, rayleigh_iid_ergodic, \n",
    "                             rayleigh_worst_ergodic_ra, rayleigh_best_ergodic)\n",
    "rayleigh_best_ergodic = np.vectorize(rayleigh_best_ergodic)"
   ]
  },
  {
   "cell_type": "code",
   "execution_count": 3,
   "metadata": {},
   "outputs": [],
   "source": [
    "def plot_rayleigh():\n",
    "    n = np.arange(2, 21)\n",
    "    fig, axs = plt.subplots()\n",
    "    func_ra = {\"Best Case RA\": (rayleigh_best_ergodic_ra, 'b'),\n",
    "               \"Worst Case RA\": (rayleigh_worst_ergodic_ra, 'r')}\n",
    "    plots_ra = {k: axs.plot(n, np.zeros((len(n), 2)), '--', label=k, c=v[1]) for k, v in func_ra.items()}\n",
    "    # Non-RA curves\n",
    "    func = {\"Independent\": (rayleigh_iid_ergodic, 'g'),\n",
    "            \"Comonotonic\": (rayleigh_comon_ergodic, 'orange'),\n",
    "            \"Best Case Exact\": (rayleigh_best_ergodic, \"cyan\")}\n",
    "    plots = {k: axs.plot(n, np.zeros_like(n), label=k, c=v[1])[0] for k, v in func.items()}\n",
    "    \n",
    "    axs.set_xlabel(\"Number of Channels $n$\")\n",
    "    axs.set_ylabel(\"Ergodic Capacity $C$\")\n",
    "    axs.set_xlim([2, 20])\n",
    "    axs.set_ylim([0, 10])\n",
    "    axs.legend()\n",
    "    \n",
    "    def update_plot(snr_db=10., num_levels=1000):\n",
    "        snr = 10**(snr_db/10.)\n",
    "        for _name, (_func, _color) in func_ra.items():\n",
    "            values = np.array([_func(snr, _n, num_levels=num_levels) for _n in n])\n",
    "            plots_ra[_name][0].set_ydata(values[:, 0])\n",
    "            plots_ra[_name][1].set_ydata(values[:, 1])\n",
    "        for _name, (_func, _color) in func.items():\n",
    "            values = np.array(_func(snr, n))\n",
    "            plots[_name].set_ydata(values)\n",
    "    interact_manual(update_plot, snr_db=(0, 20, 1),\n",
    "                    num_levels=BoundedIntText(value=1000, min=5, max=2000,\n",
    "                                              description=\"Number of Quantization Levels:\"))"
   ]
  },
  {
   "cell_type": "code",
   "execution_count": 5,
   "metadata": {},
   "outputs": [
    {
     "data": {
      "application/vnd.jupyter.widget-view+json": {
       "model_id": "b6b54266583c48b7a814d00a9292a967",
       "version_major": 2,
       "version_minor": 0
      },
      "text/plain": [
       "Canvas(toolbar=Toolbar(toolitems=[('Home', 'Reset original view', 'home', 'home'), ('Back', 'Back to previous …"
      ]
     },
     "metadata": {},
     "output_type": "display_data"
    },
    {
     "data": {
      "application/vnd.jupyter.widget-view+json": {
       "model_id": "ed529e3ea59e4b97b40fea206ee5d7dd",
       "version_major": 2,
       "version_minor": 0
      },
      "text/plain": [
       "interactive(children=(IntSlider(value=10, description='snr_db', max=20), BoundedIntText(value=1000, descriptio…"
      ]
     },
     "metadata": {},
     "output_type": "display_data"
    }
   ],
   "source": [
    "plot_rayleigh()"
   ]
  },
  {
   "cell_type": "markdown",
   "metadata": {},
   "source": [
    "## Arbitrary Fading Distributions"
   ]
  },
  {
   "cell_type": "markdown",
   "metadata": {},
   "source": [
    "TODO: Text"
   ]
  },
  {
   "cell_type": "code",
   "execution_count": 6,
   "metadata": {},
   "outputs": [],
   "source": [
    "from mixed_marginals import mixed_best_ergodic_ra, mixed_comonotonic, mixed_independent, mixed_worst_ergodic_ra"
   ]
  },
  {
   "cell_type": "code",
   "execution_count": 7,
   "metadata": {},
   "outputs": [],
   "source": [
    "def plot_mixed_marginals():\n",
    "    snr_db = np.arange(0, 21)\n",
    "    snr = 10**(snr_db/10.)\n",
    "    \n",
    "    fig, axs = plt.subplots()\n",
    "    func_ra = {\"Best Case RA\": (mixed_best_ergodic_ra, 'b'),\n",
    "               \"Worst Case RA\": (mixed_worst_ergodic_ra, 'r')}\n",
    "    plots_ra = {k: axs.plot(snr_db, np.zeros((len(snr), 2)), '--', label=k, c=v[1])\n",
    "                for k, v in func_ra.items()}\n",
    "    # Non-RA curves\n",
    "    func = {\"Independent\": (mixed_independent, 'g'),\n",
    "            \"Comonotonic\": (mixed_comonotonic, 'orange')}\n",
    "    plots = {k: axs.plot(snr_db, np.array([v[0](_snr) for _snr in snr]), label=k, c=v[1])[0]\n",
    "             for k, v in func.items()}\n",
    "    \n",
    "    axs.set_xlabel(\"SNR $\\\\rho$ [dB]\")\n",
    "    axs.set_ylabel(\"Ergodic Capacity $C$\")\n",
    "    axs.set_xlim([0, 20])\n",
    "    axs.set_ylim([0, 10])\n",
    "    axs.legend()\n",
    "    \n",
    "    def update_plot(num_levels=1000):\n",
    "        for _name, (_func, _color) in func_ra.items():\n",
    "            values = np.array([_func(_snr, 3, num_levels=num_levels) for _snr in snr])\n",
    "            plots_ra[_name][0].set_ydata(values[:, 0])\n",
    "            plots_ra[_name][1].set_ydata(values[:, 1])\n",
    "\n",
    "    interact_manual(update_plot, num_levels=BoundedIntText(value=1000, min=5, max=2000,\n",
    "                                                           description=\"Number of Quantization Levels:\"))"
   ]
  },
  {
   "cell_type": "code",
   "execution_count": 8,
   "metadata": {},
   "outputs": [
    {
     "data": {
      "application/vnd.jupyter.widget-view+json": {
       "model_id": "1824eb947f6f43798fb270aa0ca4cb77",
       "version_major": 2,
       "version_minor": 0
      },
      "text/plain": [
       "Canvas(toolbar=Toolbar(toolitems=[('Home', 'Reset original view', 'home', 'home'), ('Back', 'Back to previous …"
      ]
     },
     "metadata": {},
     "output_type": "display_data"
    },
    {
     "data": {
      "application/vnd.jupyter.widget-view+json": {
       "model_id": "8c9efe3312294cd4a779929f308d136b",
       "version_major": 2,
       "version_minor": 0
      },
      "text/plain": [
       "interactive(children=(BoundedIntText(value=1000, description='Number of Quantization Levels:', max=2000, min=5…"
      ]
     },
     "metadata": {},
     "output_type": "display_data"
    }
   ],
   "source": [
    "plot_mixed_marginals()"
   ]
  },
  {
   "cell_type": "code",
   "execution_count": null,
   "metadata": {},
   "outputs": [],
   "source": []
  },
  {
   "cell_type": "code",
   "execution_count": null,
   "metadata": {},
   "outputs": [],
   "source": []
  }
 ],
 "metadata": {
  "kernelspec": {
   "display_name": "Python 3",
   "language": "python",
   "name": "python3"
  },
  "language_info": {
   "codemirror_mode": {
    "name": "ipython",
    "version": 3
   },
   "file_extension": ".py",
   "mimetype": "text/x-python",
   "name": "python",
   "nbconvert_exporter": "python",
   "pygments_lexer": "ipython3",
   "version": "3.8.5"
  }
 },
 "nbformat": 4,
 "nbformat_minor": 2
}
